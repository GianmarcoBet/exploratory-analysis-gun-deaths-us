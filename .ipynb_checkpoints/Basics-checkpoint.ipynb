{
 "cells": [
  {
   "cell_type": "code",
   "execution_count": 2,
   "metadata": {},
   "outputs": [
    {
     "data": {
      "text/plain": [
       "[['',\n",
       "  'year',\n",
       "  'month',\n",
       "  'intent',\n",
       "  'police',\n",
       "  'sex',\n",
       "  'age',\n",
       "  'race',\n",
       "  'hispanic',\n",
       "  'place',\n",
       "  'education'],\n",
       " ['1',\n",
       "  '2012',\n",
       "  '01',\n",
       "  'Suicide',\n",
       "  '0',\n",
       "  'M',\n",
       "  '34',\n",
       "  'Asian/Pacific Islander',\n",
       "  '100',\n",
       "  'Home',\n",
       "  '4'],\n",
       " ['2', '2012', '01', 'Suicide', '0', 'F', '21', 'White', '100', 'Street', '3'],\n",
       " ['3',\n",
       "  '2012',\n",
       "  '01',\n",
       "  'Suicide',\n",
       "  '0',\n",
       "  'M',\n",
       "  '60',\n",
       "  'White',\n",
       "  '100',\n",
       "  'Other specified',\n",
       "  '4'],\n",
       " ['4', '2012', '02', 'Suicide', '0', 'M', '64', 'White', '100', 'Home', '4']]"
      ]
     },
     "execution_count": 2,
     "metadata": {},
     "output_type": "execute_result"
    }
   ],
   "source": [
    "import csv\n",
    "\n",
    "# Loading data\n",
    "f = open(\"guns.csv\", \"r\")\n",
    "data = list(csv.reader(f))\n",
    "\n",
    "data[0:5]"
   ]
  },
  {
   "cell_type": "code",
   "execution_count": 4,
   "metadata": {},
   "outputs": [
    {
     "name": "stdout",
     "output_type": "stream",
     "text": [
      "['', 'year', 'month', 'intent', 'police', 'sex', 'age', 'race', 'hispanic', 'place', 'education']\n"
     ]
    },
    {
     "data": {
      "text/plain": [
       "[['1',\n",
       "  '2012',\n",
       "  '01',\n",
       "  'Suicide',\n",
       "  '0',\n",
       "  'M',\n",
       "  '34',\n",
       "  'Asian/Pacific Islander',\n",
       "  '100',\n",
       "  'Home',\n",
       "  '4'],\n",
       " ['2', '2012', '01', 'Suicide', '0', 'F', '21', 'White', '100', 'Street', '3'],\n",
       " ['3',\n",
       "  '2012',\n",
       "  '01',\n",
       "  'Suicide',\n",
       "  '0',\n",
       "  'M',\n",
       "  '60',\n",
       "  'White',\n",
       "  '100',\n",
       "  'Other specified',\n",
       "  '4'],\n",
       " ['4', '2012', '02', 'Suicide', '0', 'M', '64', 'White', '100', 'Home', '4'],\n",
       " ['5',\n",
       "  '2012',\n",
       "  '02',\n",
       "  'Suicide',\n",
       "  '0',\n",
       "  'M',\n",
       "  '31',\n",
       "  'White',\n",
       "  '100',\n",
       "  'Other specified',\n",
       "  '2']]"
      ]
     },
     "execution_count": 4,
     "metadata": {},
     "output_type": "execute_result"
    }
   ],
   "source": [
    "# Removing headers\n",
    "headers = data[0]\n",
    "data = data[1:]\n",
    "\n",
    "print(headers)\n",
    "data[0:5]"
   ]
  },
  {
   "cell_type": "code",
   "execution_count": 5,
   "metadata": {},
   "outputs": [
    {
     "data": {
      "text/plain": [
       "{'2012': 33563, '2013': 33636, '2014': 33599}"
      ]
     },
     "execution_count": 5,
     "metadata": {},
     "output_type": "execute_result"
    }
   ],
   "source": [
    "# Computing total deaths per year\n",
    "\n",
    "years = [row[1] for row in data]\n",
    "\n",
    "year_counts = {}\n",
    "\n",
    "for year in years:\n",
    "    if year in year_counts:\n",
    "        year_counts[year] += 1\n",
    "    else:\n",
    "        year_counts[year] = 1\n",
    "\n",
    "year_counts"
   ]
  },
  {
   "cell_type": "code",
   "execution_count": 6,
   "metadata": {},
   "outputs": [
    {
     "data": {
      "text/plain": [
       "{datetime.datetime(2012, 1, 1, 0, 0): 2758,\n",
       " datetime.datetime(2012, 2, 1, 0, 0): 2357,\n",
       " datetime.datetime(2012, 3, 1, 0, 0): 2743,\n",
       " datetime.datetime(2012, 4, 1, 0, 0): 2795,\n",
       " datetime.datetime(2012, 5, 1, 0, 0): 2999,\n",
       " datetime.datetime(2012, 6, 1, 0, 0): 2826,\n",
       " datetime.datetime(2012, 7, 1, 0, 0): 3026,\n",
       " datetime.datetime(2012, 8, 1, 0, 0): 2954,\n",
       " datetime.datetime(2012, 9, 1, 0, 0): 2852,\n",
       " datetime.datetime(2012, 10, 1, 0, 0): 2733,\n",
       " datetime.datetime(2012, 11, 1, 0, 0): 2729,\n",
       " datetime.datetime(2012, 12, 1, 0, 0): 2791,\n",
       " datetime.datetime(2013, 1, 1, 0, 0): 2864,\n",
       " datetime.datetime(2013, 2, 1, 0, 0): 2375,\n",
       " datetime.datetime(2013, 3, 1, 0, 0): 2862,\n",
       " datetime.datetime(2013, 4, 1, 0, 0): 2798,\n",
       " datetime.datetime(2013, 5, 1, 0, 0): 2806,\n",
       " datetime.datetime(2013, 6, 1, 0, 0): 2920,\n",
       " datetime.datetime(2013, 7, 1, 0, 0): 3079,\n",
       " datetime.datetime(2013, 8, 1, 0, 0): 2859,\n",
       " datetime.datetime(2013, 9, 1, 0, 0): 2742,\n",
       " datetime.datetime(2013, 10, 1, 0, 0): 2808,\n",
       " datetime.datetime(2013, 11, 1, 0, 0): 2758,\n",
       " datetime.datetime(2013, 12, 1, 0, 0): 2765,\n",
       " datetime.datetime(2014, 1, 1, 0, 0): 2651,\n",
       " datetime.datetime(2014, 2, 1, 0, 0): 2361,\n",
       " datetime.datetime(2014, 3, 1, 0, 0): 2684,\n",
       " datetime.datetime(2014, 4, 1, 0, 0): 2862,\n",
       " datetime.datetime(2014, 5, 1, 0, 0): 2864,\n",
       " datetime.datetime(2014, 6, 1, 0, 0): 2931,\n",
       " datetime.datetime(2014, 7, 1, 0, 0): 2884,\n",
       " datetime.datetime(2014, 8, 1, 0, 0): 2970,\n",
       " datetime.datetime(2014, 9, 1, 0, 0): 2914,\n",
       " datetime.datetime(2014, 10, 1, 0, 0): 2865,\n",
       " datetime.datetime(2014, 11, 1, 0, 0): 2756,\n",
       " datetime.datetime(2014, 12, 1, 0, 0): 2857}"
      ]
     },
     "execution_count": 6,
     "metadata": {},
     "output_type": "execute_result"
    }
   ],
   "source": [
    "# Converting dates to datetime object\n",
    "# Since day is missing, replace it by placeholder value\n",
    "import datetime as dt\n",
    "\n",
    "dates = [dt.datetime(year = int(row[1]), month = int(row[2]), day = 1) for row in data]\n",
    "\n",
    "dates[0:5]\n",
    "\n",
    "# Counting deaths per unique month\n",
    "date_counts = {}\n",
    "\n",
    "for row in dates:\n",
    "    if row not in date_counts:\n",
    "        date_counts[row] = 1\n",
    "    else:\n",
    "        date_counts[row] += 1\n",
    "\n",
    "date_counts"
   ]
  },
  {
   "cell_type": "code",
   "execution_count": 7,
   "metadata": {
    "scrolled": true
   },
   "outputs": [
    {
     "name": "stdout",
     "output_type": "stream",
     "text": [
      "{'M': 86349, 'F': 14449}\n"
     ]
    },
    {
     "data": {
      "text/plain": [
       "{'Asian/Pacific Islander': 1326,\n",
       " 'White': 66237,\n",
       " 'Native American/Native Alaskan': 917,\n",
       " 'Black': 23296,\n",
       " 'Hispanic': 9022}"
      ]
     },
     "execution_count": 7,
     "metadata": {},
     "output_type": "execute_result"
    }
   ],
   "source": [
    "# Exploring sex and race relation to deaths\n",
    "\n",
    "sex = [row[5] for row in data]\n",
    "# print(set(sex)) # Sanity check\n",
    "\n",
    "sex_counts = {}\n",
    "\n",
    "for row in sex:\n",
    "    if row not in sex_counts:\n",
    "        sex_counts[row] = 1\n",
    "    else:\n",
    "        sex_counts[row] += 1\n",
    "        \n",
    "race = [row[7] for row in data]\n",
    "# print(set(sex)) # Sanity check\n",
    "\n",
    "race_counts = {}\n",
    "\n",
    "for row in race:\n",
    "    if row not in race_counts:\n",
    "        race_counts[row] = 1\n",
    "    else:\n",
    "        race_counts[row] += 1\n",
    "        \n",
    "print(sex_counts)\n",
    "race_counts"
   ]
  },
  {
   "cell_type": "markdown",
   "metadata": {},
   "source": [
    "**Preliminary results**\n",
    "- The number of deaths has not changed significantly between 2012-2014.\n",
    "- The most deadly months appear to be the summer months.\n",
    "- Victims are disproportionally male.\n",
    "- The majority of victims are white.\n",
    "\n",
    "There is a ratio of roughly 1/3 between deaths of blacks and deaths of whites. It would be interesting to investigate if it is a ratio representative of the general population. Similarly for other races."
   ]
  },
  {
   "cell_type": "code",
   "execution_count": 8,
   "metadata": {},
   "outputs": [
    {
     "name": "stdout",
     "output_type": "stream",
     "text": [
      "[['Id', 'Year', 'Id', 'Sex', 'Id', 'Hispanic Origin', 'Id', 'Id2', 'Geography', 'Total', 'Race Alone - White', 'Race Alone - Hispanic', 'Race Alone - Black or African American', 'Race Alone - American Indian and Alaska Native', 'Race Alone - Asian', 'Race Alone - Native Hawaiian and Other Pacific Islander', 'Two or More Races'], ['cen42010', 'April 1, 2010 Census', 'totsex', 'Both Sexes', 'tothisp', 'Total', '0100000US', '', 'United States', '308745538', '197318956', '44618105', '40250635', '3739506', '15159516', '674625', '6984195']]\n"
     ]
    }
   ],
   "source": [
    "# Importing census data\n",
    "\n",
    "f = open(\"census.csv\", \"r\")\n",
    "census = list(csv.reader(f))\n",
    "\n",
    "print(census)"
   ]
  },
  {
   "cell_type": "code",
   "execution_count": 9,
   "metadata": {},
   "outputs": [
    {
     "data": {
      "text/plain": [
       "{'Asian/Pacific Islander': 8.374309664161762,\n",
       " 'White': 33.56849303419181,\n",
       " 'Native American/Native Alaskan': 24.521955573811088,\n",
       " 'Black': 57.8773477735196,\n",
       " 'Hispanic': 20.220491210910907}"
      ]
     },
     "execution_count": 9,
     "metadata": {},
     "output_type": "execute_result"
    }
   ],
   "source": [
    "# Computing gun deaths per 100000 members of a race\n",
    "mapping = {\n",
    "    \"Asian/Pacific Islander\": int(census[1][14]) + int(census[1][15]),\n",
    "    \"Black\": int(census[1][12]),\n",
    "    \"Native American/Native Alaskan\": int(census[1][13]),\n",
    "    \"Hispanic\": int(census[1][11]),\n",
    "    \"White\": int(census[1][10])    \n",
    "}\n",
    "\n",
    "race_per_hundredk = {}\n",
    "\n",
    "for key in race_counts:\n",
    "    race_per_hundredk[key] = race_counts[key]/mapping[key]*100000\n",
    "    \n",
    "race_per_hundredk"
   ]
  },
  {
   "cell_type": "code",
   "execution_count": 10,
   "metadata": {},
   "outputs": [
    {
     "data": {
      "text/plain": [
       "{'White': 4.6356417981453335,\n",
       " 'Asian/Pacific Islander': 3.530346230970155,\n",
       " 'Black': 48.471284987180944,\n",
       " 'Native American/Native Alaskan': 8.717729026240365,\n",
       " 'Hispanic': 12.627161104219914}"
      ]
     },
     "execution_count": 10,
     "metadata": {},
     "output_type": "execute_result"
    }
   ],
   "source": [
    "# Exploring gun deaths due to homicide per 100000 members\n",
    "intents = [row[3] for row in data]\n",
    "races = [row[7] for row in data]\n",
    "\n",
    "homicide_race_counts = {}\n",
    "\n",
    "for index, value in enumerate(races):\n",
    "    if intents[index] == \"Homicide\":\n",
    "        if value not in homicide_race_counts:\n",
    "            homicide_race_counts[value] = 1\n",
    "        else:\n",
    "            homicide_race_counts[value] += 1\n",
    "\n",
    "homicide_race_per_hundredk = {}\n",
    "            \n",
    "for key in homicide_race_counts:\n",
    "    homicide_race_per_hundredk[key] = homicide_race_counts[key]/mapping[key] * 100000\n",
    "\n",
    "homicide_race_per_hundredk"
   ]
  },
  {
   "cell_type": "markdown",
   "metadata": {},
   "source": [
    "**Findings**\n",
    "- A very high proportion of deaths of black people is due to homicide.\n",
    "- On the contrary, a relatively small proportion of white deaths is due to homicide.\n",
    "\n",
    "Next, we look for a correlation between months and homicide rates."
   ]
  },
  {
   "cell_type": "code",
   "execution_count": 22,
   "metadata": {},
   "outputs": [
    {
     "data": {
      "text/plain": [
       "{'March': 2780,\n",
       " 'April': 2845,\n",
       " 'June': 3130,\n",
       " 'July': 3269,\n",
       " 'August': 3125,\n",
       " 'September': 2966,\n",
       " 'October': 2968,\n",
       " 'December': 3191,\n",
       " 'January': 2829,\n",
       " 'February': 2178,\n",
       " 'May': 2976,\n",
       " 'November': 2919}"
      ]
     },
     "execution_count": 22,
     "metadata": {},
     "output_type": "execute_result"
    }
   ],
   "source": [
    "# Explorin relation between month and homicide rate \n",
    "months = [int(row[2]) for row in data]\n",
    "\n",
    "homicide_month_counts = {}\n",
    "\n",
    "for index, value in enumerate(months):\n",
    "    if intents[index] == \"Homicide\":\n",
    "        if value not in homicide_month_counts:\n",
    "            homicide_month_counts[value] = 1\n",
    "        else:\n",
    "            homicide_month_counts[value] += 1\n",
    "\n",
    "months_dictionary = {\n",
    "    1: \"January\",\n",
    "    2: \"February\",\n",
    "    3: \"March\",\n",
    "    4: \"April\",\n",
    "    5: \"May\",\n",
    "    6: \"June\",\n",
    "    7: \"July\",\n",
    "    8: \"August\",\n",
    "    9: \"September\",\n",
    "    10: \"October\",\n",
    "    11: \"November\",\n",
    "    12: \"December\"\n",
    "}\n",
    "\n",
    "new_homicide_month_counts = {}\n",
    "\n",
    "for key in homicide_month_counts:\n",
    "    new_homicide_month_counts[months_dictionary[key]] = homicide_month_counts[key]\n",
    "    \n",
    "new_homicide_month_counts"
   ]
  },
  {
   "cell_type": "markdown",
   "metadata": {},
   "source": [
    "_Summer_ is the deadliest season. However, _Winter_ months are also deadly. This is perhaps due to violence during the New Year celelbrations. \n",
    "\n",
    "Next, we explore which proportion of male and femal deaths respectively is due to homicide."
   ]
  },
  {
   "cell_type": "code",
   "execution_count": 28,
   "metadata": {},
   "outputs": [
    {
     "name": "stdout",
     "output_type": "stream",
     "text": [
      "Total number of gun deaths due to homicide per sex: {'M': 29803, 'F': 5373}\n",
      "Total number of gun deaths per sex: {'M': 86349, 'F': 14449}\n",
      "Proportion of homicides per sex: 0.34514586156180155 0.3718596442660392\n"
     ]
    }
   ],
   "source": [
    "homicide_sex_counts = {}\n",
    "\n",
    "for index, value in enumerate(sex):\n",
    "    if intents[index] == \"Homicide\":\n",
    "        if value in homicide_sex_counts:\n",
    "            homicide_sex_counts[value] += 1\n",
    "        else:\n",
    "            homicide_sex_counts[value] = 1\n",
    "\n",
    "print(\"Total number of gun deaths due to homicide per sex:\", homicide_sex_counts)\n",
    "print(\"Total number of gun deaths per sex:\", sex_counts)\n",
    "print(\"Proportion of homicides per sex:\", homicide_sex_counts[\"M\"]/sex_counts[\"M\"], homicide_sex_counts[\"F\"]/sex_counts[\"F\"])"
   ]
  },
  {
   "cell_type": "code",
   "execution_count": null,
   "metadata": {},
   "outputs": [],
   "source": []
  }
 ],
 "metadata": {
  "kernelspec": {
   "display_name": "Python 3",
   "language": "python",
   "name": "python3"
  },
  "language_info": {
   "codemirror_mode": {
    "name": "ipython",
    "version": 3
   },
   "file_extension": ".py",
   "mimetype": "text/x-python",
   "name": "python",
   "nbconvert_exporter": "python",
   "pygments_lexer": "ipython3",
   "version": "3.7.0"
  }
 },
 "nbformat": 4,
 "nbformat_minor": 1
}
